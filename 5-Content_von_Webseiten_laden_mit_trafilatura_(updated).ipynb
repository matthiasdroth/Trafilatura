{
 "cells": [
  {
   "cell_type": "markdown",
   "id": "48e48ee2-bd9f-4b10-ac0b-987a58d38d68",
   "metadata": {},
   "source": [
    "# Content von Webseiten laden mit trafilatura (updated)\n",
    "https://www.youtube.com/watch?v=9RPrVE0hHgI&list=PL-pKWbySIRGMgxXQOtGIz1-nbfYLvqrci&index=5"
   ]
  },
  {
   "cell_type": "code",
   "execution_count": 1,
   "id": "a041b1af-9ee7-44b3-8561-f553b35cbcf3",
   "metadata": {},
   "outputs": [
    {
     "name": "stdout",
     "output_type": "stream",
     "text": [
      "HEUSER: Nach dem Auswärtsspiel, nach der Blamage bei Union Berlin war viel von fehlender Mentalität die Rede, fehlt’s da immer noch?https://youtu.be/qWjc9uzL09E?t=43\n",
      "REUS: Oah, das geht mir so auf die Eier mit euch, mit eurer Mentalitätsscheiße, ne, ganz ehrlich, also…\n",
      "HEUSER: Aber trifft’s nicht genau den Punkt?\n",
      "REUS: Heute? Ist das Ihr Ernst jetzt?\n",
      "Nach dem 2:2-Unentschieden gegen Eintracht Frankfurt hat Marco Reus ein bemerkenswertes Interview gegeben. Bemerkenswert, weil er für einen kurzen Moment die eigentlich geltende Allianz von Reporter*innen und Fußballer*innen aufgekündigt hat, der zufolge harmlosen Fragen mit harmlosen Antworten begegnet wird (K. File hat die Gattung des Post Match Interview einmal treffend als conciliatory beschrieben). Allein schon wegen des Seltenheitswertes verdient ein solches Interview, in dem ein Fußballer seinem Ärger freien Lauf lässt, besondere fußballlinguistische Aufmerksamkeit. Aber auch der Vorwurf selbst, dieses ihr mit eurer Mentalitätsscheiße ist einen genaueren Blick wert.\n",
      "Was ist „Mentalität“?\n",
      "Tatsächlich ist im Fußball gerne und oft von Mentalität die Rede. Das zeigt schon eine Recherche im Deutschen Referenzkorpus: Die meisten Belege fallen tatsächlich auf das Thema Sport: Fußball. Und ein Blick in die Belege zeigt zudem, dass Mentalität im Fußball offenbar eine besondere Rolle spielt, denn damit soll offenbar so etwas wie Einstellung gemeint sein, jenes kaum objektiv messbare, aber im Zweifel für Sieg oder Niederlage verantwortlich gemachte Etwas, das irgendwo im Kopf lokalisiert sein soll. Und es geht dabei, wie schon im zitierten Interview, weniger um die üblicherweise in Wörterbüchern kodifizierte, partikulaisierende Mentalität einer bestimmten Menschengruppe (etwa die ‚deutsche‘ oder ‚italienische‘ oder ‚dörfliche‘ Mentalität), sondern um eine normativ gewendete ‚richtige‘, ‚gute‘ oder eben ‚fehlende‘ Mentalität. Nur mal zwei lose herausgegriffene Beispiele aus meinen Korpora:\n",
      "Die Stärken der Niedersachsen fasst er [Jürgen Klopp] kurz und knapp mit den Worten „klare Spielidee, gute Mentalität und sensationelles Umschaltspiel“ zusammen.https://www.weltfussball.de/spielbericht/bundesliga-2012-2013-hannover-96-borussia-dortmund/liveticker/\n",
      "„Meine Mannschaft hat große Moral und die richtige Mentalität bewiesen. Sie hat sich für ihren Einsatz und die vielen Torchancen belohnt“, meint Kramny […]https://www.weltfussball.de/spielbericht/bundesliga-2015-2016-vfb-stuttgart-vfl-wolfsburg/liveticker/\n",
      "Die verabsolutierte Form der Mentalität scheint tatsächlich etwas sporttypisches (man denke auch an die etwa im Tennis vielbesprochene mentale Stärke) und insbesondere fußballtypisches zu sein. Und sie lässt sich seit vielen Jahrzehnten nachweisen.\n",
      "Eine historische Spurensuche\n",
      "Der früheste Beleg, den ich finden konnte, stammt aus dem Jahr 1966 aus einem Artikel über mögliche Regeländerungen, in dem es über den damaligen FIFA-Generalsekretär heißt:\n",
      "Helmut Käser fand hierfür die Formulierung, daß die Taktik des Spiels nicht von den Regeln, sondern in erster Linie von der Mentalität des Spiels und der Spieler bestimmt werde.Die Zeit, 4.11.1966\n",
      "1974 ist es dann kein Geringerer als Helmut Schön, dessen Rede von Mentalität wie folgt wiedergegeben wird:\n",
      "Er spricht von der Mentalität der Spieler, die ja schließlich Profis seien, verweigert allerdings die Antwort auf die Frage, ob er die gezahlten Summen für angemessen halte […]Die Zeit, 30.8.1974\n",
      "Und tatsächlich gehört seit den Siebziger Jahren die Rede Mentalität zur rhetorischen Standardausrüstung insbesondere der Trainer. Zwar ist auch die partikularisierende, und hier vor allem die nationalisierende Variante bis heute zu finden, etwa im thematischen Kontext von Länderspielen oder Vereinswechseln ins Ausland. Aber immer wieder wird eben auch einfach auf die Mentalität an sich verwiesen, die eine Mannschaft angeblich an den Tag legt.\n",
      "Entscheidend scheint mir dabei zu sein, dass es tatsächlich, wie schon in den genannten frühesten Belegen, fast immer die Akteure selbst sind, die in solcher Weise von Mentalität reden. Man sieht das etwa daran, dass unsere Mentalität eine hochsignifikante Kollokation ist:\n",
      "«Wir waren in der Lage, gegen den Weltmeister bis auf die letzten zehn Sekunden mitzuhalten. Das hat uns stärker und zuversichtlicher gemacht. Unsere Mentalität ist sehr gut. Wir haben ein gutes Gefühl», sagte der Trainer Janne Andersson.NZZ, 26.6.2018\n",
      "Auch in meinen Livetickerkorpora sind ist fast ausschließlich in direkten Zitaten von Mentalität die Rede. Mentalität scheint mir so etwas wie eine Pathosformel der Ergebniserklärung zu sein, die überzeugen soll, ohne allzu präzise beschreiben zu müssen (und zu können).\n",
      "Wessen Mentalitätsscheiße ist das?\n",
      "Das mag man, gerade in seiner Allgemeinheit und Ubiquität, scheiße finden, denn tatsächlich erklärt Mentalität eigentlich nichts bzw. muss immer dann herhalten, wenn es sonst keine Erklärungen gibt. Aber dass es die Journalist*innen sind, die immer mit dieser Mentalitätsscheiße kommen – das stimmt wohl kaum. Und Marco Reus schießt hier vor allem gegen sich selbst. Denn ich freue mich besonders, in meinen Quellen dieses Zitat gefunden zu haben:\n",
      "„[…] Das 1:1 war so einen Art Weckruf“ , analysierte BVB-Kapitän Marco Reus, der die “ gute Mentalität“ lobte.Berliner Morgenpost, 9.12.2018\n",
      "Interessanter Text. Die problematische Mentalität hat Marco Reus übrigens nach dem 1:3 bei Union selber erwähnt. Der Spin mit „eurer Mentalitätsscheisse“ ist also zumindest bei „eure“ falsch.\n",
      "Guter Text. Marco Reus ärgert sich vielleicht primär über das Spiel gegen Union Berlin und wendet diesen Ärger gegen den Reporter.\n"
     ]
    }
   ],
   "source": [
    "# Mentalitätsscheiße\n",
    "!trafilatura -u \"https://fussballlinguistik.de/2019/09/mentalitaetsscheisse/\""
   ]
  },
  {
   "cell_type": "code",
   "execution_count": 2,
   "id": "88b6b777-4018-4588-b08f-84b387baa994",
   "metadata": {},
   "outputs": [],
   "source": [
    "# Mentalitätsscheiße (xml format, write to .xml file)\n",
    "!trafilatura --xml -u \"https://fussballlinguistik.de/2019/09/mentalitaetsscheisse/\" > \"mentalitätsschxxxx.xml\""
   ]
  },
  {
   "cell_type": "code",
   "execution_count": 3,
   "id": "3d664ed4-38a1-4aac-9ac8-3ec6feffa58a",
   "metadata": {},
   "outputs": [],
   "source": [
    "# Mentalitätsscheiße (xml format, omit <comments></comments> write to 2nd .xml)\n",
    "!trafilatura --xml --nocomments -u \"https://fussballlinguistik.de/2019/09/mentalitaetsscheisse/\" > \"mentalitätsschxxxx2.xml\""
   ]
  },
  {
   "cell_type": "code",
   "execution_count": 4,
   "id": "5b2bf11b-2e5e-4e5f-ad47-9aeb9573c0ba",
   "metadata": {},
   "outputs": [
    {
     "name": "stdout",
     "output_type": "stream",
     "text": [
      "1-Introducing_a_Web_Scraping_Library_and_Command-Line_Tool_for_Text_Discovery_and_Extraction.ipynb\n",
      "2-Web_scraping_and_text_content_extraction–Beginner_tutorial_for_Python_and_the_command-line.ipynb\n",
      "3-News_crawling_&_web_scraping_-_Beginner_Tutorial_for_Python_and_the_command-line.ipynb\n",
      "4-Use_XML_sitemaps_to_scrape_news_articles_&_blog_posts_from_a_website.ipynb\n",
      "5-Content_von_Webseiten_laden_mit_trafilatura_(updated).ipynb\n",
      "LICENSE\n",
      "README.md\n",
      "\u001b[34menv\u001b[m\u001b[m\n",
      "linklist.txt\n",
      "linklistResult.json\n",
      "mentalitätsschxxxx.xml\n",
      "mentalitätsschxxxx2.xml\n",
      "url_Liste.txt\n"
     ]
    }
   ],
   "source": [
    "!ls"
   ]
  },
  {
   "cell_type": "code",
   "execution_count": 5,
   "id": "23897b09-5743-4b6f-bd6f-3cdd58834675",
   "metadata": {},
   "outputs": [
    {
     "name": "stdout",
     "output_type": "stream",
     "text": [
      "<doc sitename=\"Fußballlinguistik\" title=\"Mentalitätsscheiße\" author=\"Simon Meier-Vieracker\" date=\"2019-09-24\" url=\"https://fussballlinguistik.de/2019/09/mentalitaetsscheisse/\" hostname=\"fussballlinguistik.de\" description=\"HEUSER: Nach dem Auswärtsspiel, nach der Blamage bei Union Berlin war viel von fehlender Mentalität die Rede, fehlt’s da immer noch?REUS: Oah, das geht mir so auf die Eier mit euch, mit eurer…\" categories=\"Interview\" tags=\"\" fingerprint=\"d65f745b4382f660\">\n",
      "  <main>\n",
      "    <quote><p>HEUSER: Nach dem Auswärtsspiel, nach der Blamage bei Union Berlin war viel von fehlender Mentalität die Rede, fehlt’s da immer noch?</p>https://youtu.be/qWjc9uzL09E?t=43<lb/>REUS: Oah, das geht mir so auf die Eier mit euch, mit eurer Mentalitätsscheiße, ne, ganz ehrlich, also…<lb/>HEUSER: Aber trifft’s nicht genau den Punkt?<lb/>REUS: Heute? Ist das Ihr Ernst jetzt?</quote>\n",
      "    <p>Nach dem 2:2-Unentschieden gegen Eintracht Frankfurt hat Marco Reus ein bemerkenswertes Interview gegeben. Bemerkenswert, weil er für einen kurzen Moment die eigentlich geltende Allianz von Reporter*innen und Fußballer*innen aufgekündigt hat, der zufolge harmlosen Fragen mit harmlosen Antworten begegnet wird (K. File hat die Gattung des Post Match Interview einmal treffend als conciliatory beschrieben). Allein schon wegen des Seltenheitswertes verdient ein solches Interview, in dem ein Fußballer seinem Ärger freien Lauf lässt, besondere fußballlinguistische Aufmerksamkeit. Aber auch der Vorwurf selbst, dieses ihr mit eurer Mentalitätsscheiße ist einen genaueren Blick wert.</p>\n",
      "    <head rend=\"h2\">Was ist „Mentalität“?</head>\n",
      "    <p>Tatsächlich ist im Fußball gerne und oft von Mentalität die Rede. Das zeigt schon eine Recherche im Deutschen Referenzkorpus: Die meisten Belege fallen tatsächlich auf das Thema Sport: Fußball. Und ein Blick in die Belege zeigt zudem, dass Mentalität im Fußball offenbar eine besondere Rolle spielt, denn damit soll offenbar so etwas wie Einstellung gemeint sein, jenes kaum objektiv messbare, aber im Zweifel für Sieg oder Niederlage verantwortlich gemachte Etwas, das irgendwo im Kopf lokalisiert sein soll. Und es geht dabei, wie schon im zitierten Interview, weniger um die üblicherweise in Wörterbüchern kodifizierte, partikulaisierende Mentalität einer bestimmten Menschengruppe (etwa die ‚deutsche‘ oder ‚italienische‘ oder ‚dörfliche‘ Mentalität), sondern um eine normativ gewendete ‚richtige‘, ‚gute‘ oder eben ‚fehlende‘ Mentalität. Nur mal zwei lose herausgegriffene Beispiele aus meinen Korpora:</p>\n",
      "    <quote><p>Die Stärken der Niedersachsen fasst er [Jürgen Klopp] kurz und knapp mit den Worten „klare Spielidee, gute Mentalität und sensationelles Umschaltspiel“ zusammen.</p>https://www.weltfussball.de/spielbericht/bundesliga-2012-2013-hannover-96-borussia-dortmund/liveticker/</quote>\n",
      "    <quote><p>„Meine Mannschaft hat große Moral und die richtige Mentalität bewiesen. Sie hat sich für ihren Einsatz und die vielen Torchancen belohnt“, meint Kramny […]</p>https://www.weltfussball.de/spielbericht/bundesliga-2015-2016-vfb-stuttgart-vfl-wolfsburg/liveticker/</quote>\n",
      "    <p>Die verabsolutierte Form der Mentalität scheint tatsächlich etwas sporttypisches (man denke auch an die etwa im Tennis vielbesprochene mentale Stärke) und insbesondere fußballtypisches zu sein. Und sie lässt sich seit vielen Jahrzehnten nachweisen.</p>\n",
      "    <head rend=\"h2\">Eine historische Spurensuche</head>\n",
      "    <p>Der früheste Beleg, den ich finden konnte, stammt aus dem Jahr 1966 aus einem Artikel über mögliche Regeländerungen, in dem es über den damaligen FIFA-Generalsekretär heißt:</p>\n",
      "    <quote><p>Helmut Käser fand hierfür die Formulierung, daß die Taktik des Spiels nicht von den Regeln, sondern in erster Linie von der Mentalität des Spiels und der Spieler bestimmt werde.</p>Die Zeit, 4.11.1966</quote>\n",
      "    <p>1974 ist es dann kein Geringerer als Helmut Schön, dessen Rede von Mentalität wie folgt wiedergegeben wird:</p>\n",
      "    <quote><p>Er spricht von der Mentalität der Spieler, die ja schließlich Profis seien, verweigert allerdings die Antwort auf die Frage, ob er die gezahlten Summen für angemessen halte […]</p>Die Zeit, 30.8.1974</quote>\n",
      "    <p>Und tatsächlich gehört seit den Siebziger Jahren die Rede Mentalität zur rhetorischen Standardausrüstung insbesondere der Trainer. Zwar ist auch die partikularisierende, und hier vor allem die nationalisierende Variante bis heute zu finden, etwa im thematischen Kontext von Länderspielen oder Vereinswechseln ins Ausland. Aber immer wieder wird eben auch einfach auf die Mentalität an sich verwiesen, die eine Mannschaft angeblich an den Tag legt.</p>\n",
      "    <p>Entscheidend scheint mir dabei zu sein, dass es tatsächlich, wie schon in den genannten frühesten Belegen, fast immer die Akteure selbst sind, die in solcher Weise von Mentalität reden. Man sieht das etwa daran, dass unsere Mentalität eine hochsignifikante Kollokation ist:</p>\n",
      "    <quote><p>«Wir waren in der Lage, gegen den Weltmeister bis auf die letzten zehn Sekunden mitzuhalten. Das hat uns stärker und zuversichtlicher gemacht. Unsere Mentalität ist sehr gut. Wir haben ein gutes Gefühl», sagte der Trainer Janne Andersson.</p>NZZ, 26.6.2018</quote>\n",
      "    <p>Auch in meinen Livetickerkorpora sind ist fast ausschließlich in direkten Zitaten von Mentalität die Rede. Mentalität scheint mir so etwas wie eine Pathosformel der Ergebniserklärung zu sein, die überzeugen soll, ohne allzu präzise beschreiben zu müssen (und zu können).</p>\n",
      "    <head rend=\"h2\">Wessen Mentalitätsscheiße ist das?</head>\n",
      "    <p>Das mag man, gerade in seiner Allgemeinheit und Ubiquität, scheiße finden, denn tatsächlich erklärt Mentalität eigentlich nichts bzw. muss immer dann herhalten, wenn es sonst keine Erklärungen gibt. Aber dass es die Journalist*innen sind, die immer mit dieser Mentalitätsscheiße kommen – das stimmt wohl kaum. Und Marco Reus schießt hier vor allem gegen sich selbst. Denn ich freue mich besonders, in meinen Quellen dieses Zitat gefunden zu haben:</p>\n",
      "    <quote><p>„[…] Das 1:1 war so einen Art Weckruf“ , analysierte BVB-Kapitän Marco Reus, der die “ gute Mentalität“ lobte.</p>Berliner Morgenpost, 9.12.2018</quote>\n",
      "  </main>\n",
      "</doc>\n",
      "<doc sitename=\"Fußballlinguistik\" title=\"Schiedsrichterbewertungen – linguistisch betrachtet\" author=\"Simon Meier-Vieracker\" date=\"2020-10-01\" url=\"https://fussballlinguistik.de/2020/10/schiedsrichterbewertungen-linguistisch-betrachtet/\" hostname=\"fussballlinguistik.de\" description=\"Vor einiger Zeit meldete sich Klaas Reese bei mir, seines Zeichens Moderator bei DLF Sport, Blogger, GIF-Kolumnist und vor allem Podcaster: Zusammen mit Alex Feuerherdt betreibt Klaas den sensation…\" categories=\"Einzelkritik\" tags=\"\" fingerprint=\"160d86cacaa8f14e\">\n",
      "  <main>\n",
      "    <p>Vor einiger Zeit meldete sich Klaas Reese bei mir, seines Zeichens Moderator bei DLF Sport, Blogger, GIF-Kolumnist und vor allem Podcaster: Zusammen mit Alex Feuerherdt betreibt Klaas den sensationellen Schiedsrichter Podcast Collinas Erben, wo mit allergrößter Sachkunde und Leidenschaft Aufgaben, Leistungen, Verdienste und Probleme der Fußballschiedsrichter*innen besprochen werden.</p>\n",
      "    <p>Klaas regte an, die Schiedsrichterbewertungen, die der kicker bei jedem Bundesligaspiel vornimmt, auszuwerten, und weil fussballlinguistik.de gerne auch Auftragsforschung betreibt, habe ich mich rangemacht und alle auf kicker.de verfügbaren Schiedsrichterbewertungen runtergeladen: 7343 Stück aus den Saisons 1996–2020, jeweils mit einer Note zwischen 1 und 6 und einem ganz kurzen Bewertungstext im Gesamtumfang von 181’389 Wörtern.</p>\n",
      "    <p>Mit dem Datensatz lassen sich einige schöne Auswertungen machen: Zum einen kann man mit den Noten rechnen, zum anderen kann man eben diese Noten als Metadaten für korpuslinguistische Auswertungen verwenden, um etwas über typische Formulierungen bei der Bewertung von Schiedsrichterleistungen zu erfahren. Beides habe ich gemacht und möchte hier einige Ergebnisse präsentieren.</p>\n",
      "    <head rend=\"h2\">The quantified referee</head>\n",
      "    <p>Der Notendurchschnitt liegt bei 3,22, es wird also insgesamt recht hart bewertet. Allerdings zeigt die Notenverteilung, dass die Note 2 am häufigsten vergeben wurde – und insgesamt scheinen die Redakteure eine Neigung zu ganzen Noten zu haben. Zählt man dagegen die Wörter aus (aus Darstellungsgründen sind die Werte normalisiert), entfällt auf die Note 4,0 fast ebenso viel Text – ein Hinweis darauf, dass es aufwändiger ist, eine schlechte Note zu rechtfertigen als eine gute…</p>\n",
      "    <p>Um diesem Hinweis weiter nachzugehen, habe ich auch ausgerechnet, wie lang die Texte der einzelnen Noten im Schnitt sind. Das Ergebnis lässt sich hübsch visualisieren und kann hier eingesehen werden. Man sieht, dass die Texte für die Note 2,0 am kürzesten sind, die für die 5,5 und 6,0 am längsten. Das ist wohl das Schicksal der Schiedsrichter: Wenn sie Ihre Arbeit gut machen, wird am wenigsten über sie gesprochen. Wenn sie überhaupt in den Fokus rücken, dann meist zum Zwecke der Kritik. Damit folgen die Schiedsrichterbewertungen aber auch einer aus der Gesprächsanalyse als „preference organisation“ bekannten Tendenz: Kritische und potenziell verletzende Äußerungen sind dispräferiert und müssen mit mehr Begründungsaufwand formuliert werden als lobende Äußerungen. Ein „Gut gemacht!“ ist schnell gesagt und reicht auch aus; ein „Eigentlich schon ganz gut, aber…“ dauert eben länger (Hutchby/Wooffitt 2008: 46–49).</p>\n",
      "    <head rend=\"h2\">Wer ist der beste Schiedsrichter?</head>\n",
      "    <p>Wie aber sehen die Notendurchschnitte der einzelnen Schiedsrichter aus? Wer ist – in den Augen des kicker– der beste Schiedsrichter im hier untersuchten Zeitraum? Die folgende (interaktiv sortierbare) Tabelle zeigt das Ergebnis. Die rechte Spalte zeigt dabei an, wie viele Spiele in die Auswertung eingegangen sind. So haben die beiden Top-Platzierten (noch) eher wenige Spiele gepfiffen, und dass sie so gute Bewertungen davon getragen haben, könnte auch viel mit Glück zu tun haben.</p>\n",
      "    <p>Unter den Schiedsrichtern, die auf eine lange Karriere zurückblicken können, erweisen sich also Hellmut Krug und Markus Merk als die Besten ihres Fachs. Umgekehrt können Hermann Albrecht und Uwe Kemmling in ihrem langjährigen Mittel als eher mittelmäßig gelten.</p>\n",
      "    <p>Um es aber statistisch ganz genau zu machen und die oben erwähnten Möglichkeit des Zufalls ausschließen zu können, habe ich auch das sogenannte Konfidenzintervall für die einzelnen Schiedsrichter berechnet (ich danke Sascha Wolfer für die sachkundige Unterstützung bei der Berechnung). Der Plot ist hier einsehbar und zeigt, ob die Durchschnittsnote eines Schiedsrichters tatsächlich signifikant über dem Gesamtdurchschnitt liegt: Wenn das obere Ende des Fehlerbalkens die Mittelwertlinie nicht schneidet, darf man es als Indiz für einen signifikanten Unterschied deuten. Wirklich klar besser als der Rest sind demnach nur Hellmut Krug und Wolfgang Stark, aber auch Sven Jablonski ist auf dem besten Weg; dagegen bestätigt sich die Unterdurchschnittlichkeit von Hermann Albrecht. Und noch ein Detail: Der durchschnittlichste aller Schiedsrichter, also der, der sich mit der geringsten Streuung um den Mittelwert herum bewegt, ist Herbert Fandel.</p>\n",
      "    <head rend=\"h2\">Wo sind die Schiedsrichter am besten?</head>\n",
      "    <p>Auch für andere Metadaten lassen sich Durchschnittswerte berechnen, z.B. für die Spielorte bzw. die jeweiligen Heimteams. Man könnte ja mal vermuten, dass sich die Schiedsrichter bei Bayern München besonders viel Mühe geben. Dem ist nicht so, aber trotzdem ist die Auswertung ganz interessant:</p>\n",
      "    <p>Das Freiburger Dreisamstadion ist offenbar ein schiedsrichterfreundlicher Ort. Liegt möglicherweise am guten Wetter in Südbaden. Und besonders ungemütlich ist es am Böllenfalltor in Darmstadt, aber das mag bei nur zwei Saisons Zufall sein. Hingegen hat sich das Müngersdorfer Stadion in 255 Heimspielen des 1. FC Köln als schwieriges Pflaster erwiesen. Auch hier ebnet die Berechnung des Konfidenzintervalls vieles ein, etwa die Spitzenstellung von RB Leipzig. Dafür bestätigt sich die Überdurchschnittlichkeit der Schiedsrichterleistungen in Freiburg, und in Köln und Bielefeld haben sie es signifikant schwerer als an anderen Spielstätten. Woran das alles liegen mag, überlasse ich der geneigten Leser*innenschaft zur Spekulation. Ich würde ja vermuten, dass sich an Stätten des ewigen Abstiegskampfes mehr Regelwidrigkeiten ereignen und sich mithin mehr potenzielle Fehlerquellen bei Schiedsrichterentscheidungen auftun.</p>\n",
      "    <p>Schließlich habe ich noch nachgesehen, wie sich der Notendurchschnitt in der Zeit entwickelt (klick hier für die größere Auflösung):</p>\n",
      "    <p>Ein ganz erstaunliches Ergebnis, denn nachdem es über Jahre kaum nennenswerte Schwankungen gab, gibt es einen klaren Sprung zur Saison 2017/18, in der – ja tatsächlich – der VAR eingeführt wurde. Es wäre aber wohl zu kurz gegriffen zu behaupten, dass der VAR die Schiedsrichterleistungen wirklich besser macht. Plausibler scheint mir die Erklärung, dass sich die Kritik jetzt eben auf den Videobeweis richtet und die Schiedsrichter auf dem Platz oftmals selbst Betroffene von Fehlentscheidungen sind. Und das spiegelt sich dann auch in den Noten wieder.</p>\n",
      "    <head rend=\"h2\">Was ein guter Schiedsrichter tun muss</head>\n",
      "    <p>Wie schon angedeutet, lassen sich die Noten auch als Metadaten für die Untersuchung der kurzen ausformulierten Bewertungen verwenden. Das geht so: Für jede Note bilde ich ein Subkorpus mit jeweils allen Texten in lemmatisierter, also auf die Grundform der einzelnen Wörter zurückgeführter Form. Jedes Subkorpus kontrastiere ich dann mit dem gesamten Korpus und errechne in einer sogenannten Keyword-Analyse jene Wörter, die für die jeweilige Note signifikant häufig und deshalb besonders typisch sind. So erhalte ich gewissermaßen die sprachlichen Grundzutaten einer Bewertung etwa der Note 2.</p>\n",
      "    <p>Für jede Note formuliere ich im Folgenden einen kurzen stereotypen Text über eine typische Schiedsrichterleistung, die mit dieser Note bewertet würde. Oder anders herum ausgedrückt: Ich formuliere einen stereotypen Text, der die Vergabe der jeweiligen Note begründen kann. Alle signifikanten Ausdrücke (p &lt; 0.001) sind fett gedruckt:</p>\n",
      "    <quote>\n",
      "      <p>1,0: Herausragende Leistung, lag bei allen kniffligen Entscheidungen jederzeit richtig, absolut fehlerfrei, gute Körpersprache</p>\n",
      "      <p>1,5: Nahezu fehlerfrei, souveräne Leistung, ruhig und unaufgeregt, erkannte die Schwalben, lag bei fast allen Entscheidungen richtig</p>\n",
      "      <p>2,0: Souveräner Leiter einer Partie ohne knifflige Situationen, umsichtig und angenehm zurückhaltend, wohltuend unauffällig, hatte das Spiel im Griff, mit klarer Linie, stets auf Ballhöhe, mit Übersicht, ließ viel laufen, lag bei persönlichen Strafen richtig, fällte vertretbare Entscheidungen</p>\n",
      "      <p>2,5: nur wenige Fehler, insgesamt souverän und sicher, allerdings eine faire Partieohne Herausforderungen</p>\n",
      "      <p>3,0: einige kleine Probleme, aber insgesamt solide Leistung ohne große Fehler</p>\n",
      "      <p>3,5: Mitunter kleinlich, einige Fehler schmälerten den insgesamt ordentlichen Gesamteindruck</p>\n",
      "      <p>4,0: mal kleinlich, mal großzügig bei der Beurteilungvon Zweikämpfen, übersah ein Foul von XY, viele kleine, aber nicht spielentscheidende Fehler</p>\n",
      "      <p>4,5: falsche Abseitsentscheidung (15.), hätte für das Foul von XY rote/gelbe Karte geben müssen</p>\n",
      "      <p>5,0: mit eklatanten Fehlern, verweigerte nach Foul von XY den Elfmeter, übersah ein Handspiel, hätte zudem wegen Notbremse Rot geben müssen, versagte einem regulären Tor zu Unrecht die Anerkennung</p>\n",
      "      <p>5,5: schwache Leistung, zwei gravierende Fehler, verweigerte einen klaren Elfmeter, zudem gelbe Karte wegen angeblicher Schwalbe</p>\n",
      "      <p>6,0: katastrophale Vorstellung, völlig überfordert, krasse Fehlentscheidungen, benachteiligte Mannschaft XY gleich mehrfach</p>\n",
      "    </quote>\n",
      "    <p>Was fängt man mit diesen Befunden an? Zum einen sind sie interessant, da sie, wie dies Arendt/Schäfer (2015: 104) für Bewertungen in der Wissenschaft formulieren, „Hinweise auf implizit geltende Standards liefern, indem sie explizit artikulierte, implizit präsupponierte Normen und angereicherte Erwartungen herauspräparier[en]“. M.a.W. kann man herauslesen, wie ein guter Schiedsrichter zu sein hat und was er tun muss. Am schönsten finde ich hierbei die Formulierung angenehm unauffällig, aber auch Übersicht und eine klare Linie sind wertgeschätzte Attribute.</p>\n",
      "    <p>Zum anderen ist an den Texten gerade die stufenweise Skalierung interessant (Meier 2019). Sozusagen abweichend vom Ideal des absolut fehlerfreien Spiels kommen immer mehr Dinge hinzu, die zu Abzügen führen. Bei einer 1,5 ist der Schiedsrichter nur noch nahezu fehlerfrei, bei einer 3,0 macht er zwar Fehler, aber keine großen, bei einer 4,0 zwar viele, aber keine spielentscheidenden Fehler. Auch die adversativen Konnektoren wie aber und allerdings fallen für die Noten 2,5 und 3,0 auf. Vieles war gut, aber eben auch manches nicht. Die für die Note 4,0 typische Formulierung mal … mal funktioniert ganz ähnlich. Bei der mangelhaften Note 5,0 hingegen finden wir den additiven Konnektor zudem, der gleich zwei (oder auch drei) Negativbewertungen miteinander verknüpft. Ab der Note 4,5 abwärts finden wir zudem oft die Formulierung hätte müssen, die besonders deutlich die Abweichung vom Erwartbaren zum Ausdruck bringt. Aufschlussreich ist auch das Detail, dass bei der 4,5 eine genaue Minutenangabe signifikant ist. Fehlentscheidungen, die so dimensioniert sind, dass sie sich mit einer Minutenangabe genau benennen lassen, fallen eben mehr ins Gewicht als viele kleine, wie sie noch bei einer 4,0 oft genannt werden.</p>\n",
      "    <p>Schließlich kann man natürlich für ausgesuchte Ausdrücke die Vorkommenshäufigkeiten bei den einzelnen Noten ermitteln. Das kann man ganz hübsch als Kurven darstellen (zu kurz kommen hier natürlich Kontexteffekte wie Negationen):</p>\n",
      "    <p>Erwartungsgemäß zeigt die Kurve für souverän bei schlechten Noten nach unten. Man sieht aber auch, dass das Abseits in allen Notenbereichen erwähnt wird, am häufigsten aber bei der Note 5,5. Ein Blick in die Daten aber zeigt, dass bei guten Noten eben Abseitsstellungen erkannt, bei schlechten dagegen übersehen werden. Es bräuchte also noch feiner justierte Auswertungsmethoden. Aber das mache ich dann in einem anderen Blogpost.</p>\n",
      "    <head rend=\"h2\">VAR noch was?</head>\n",
      "    <p>Schließlich noch ein letzter Punkt, auch wenn mir hierfür eigentlich zu wenig Daten vorliegen. Der „Videobeweis“ oder „Videoschiedsrichter“ wird bei den schlechten Noten tendenziell häufiger erwähnt. Typische Verwendungen sind etwa „hätte sich nicht nur auf den Videoassistenten verlassen dürfen“. Aber alles in allem ist es undurchsichtig, welche Rolle der Videoassistent bei der Benotung überhaupt spielt: Wird seine Leistung mitbewertet? Oder geht es um den Umgang des Feldschiedsrichters mit dem Videoschiedsrichter? Mal sehen, was die kommenden Spielzeiten bringen werden.</p>\n",
      "    <p>Datensatz</p>\n",
      "    <p>Der Datensatz mit Ausnahme der Bewertungstexte ist hier im tsv-Format verfügbar.</p>\n",
      "    <p>Literatur</p>\n",
      "    <p>Arendt, Birte/Schäfer, Pavla (2015): Bewertungen im Wissenschaftsdiskurs. Eine Analyse von Review-Kommentaren als Aushandlungspraxis normativer Erwartungen. In: LiLi 177, S. 104–125.</p>\n",
      "    <p>Hutchby, Ian/Wooffitt, Robin (2008): Conversation analysis. 2nd ed. Cambridge/Malden: Polity.</p>\n",
      "    <p>Meier, Simon (2019): Einzelkritiken in der Fußballberichterstattung. Evaluativer Sprachgebrauch aus korpuspragmatischer Sicht. In: Muttersprache 129, S. 1–23.</p>\n",
      "  </main>\n",
      "</doc>\n",
      "<doc sitename=\"Fußballlinguistik\" title=\"Die Spieler des Spiels\" author=\"Simon Meier-Vieracker\" date=\"2020-01-07\" url=\"https://fussballlinguistik.de/2020/01/spieler-des-spiels/\" hostname=\"fussballlinguistik.de\" description=\"Üblicherweise wird nach Fußballspielen ein*e Spieler*in als Player of the Game oder, wenigstens im Herrenfußball, als Man of the Match ausgezeichnet. Das macht die FIFA bei Großturnieren und vergib…\" categories=\"Einzelkritik\" tags=\"\" fingerprint=\"6fd24b489809dc10\">\n",
      "  <main>\n",
      "    <p>Üblicherweise wird nach Fußballspielen ein*e Spieler*in als Player of the Game oder, wenigstens im Herrenfußball, als Man of the Match ausgezeichnet. Das macht die FIFA bei Großturnieren und vergibt dafür auch eine kleine Trophäe (aus Plexiglas, meine ich), das macht aber auch der kicker in seinen Spielberichten. Auf kicker.de lassen sich bis zur Bundesliga-Saison 1998-99 die jeweiligen Spieler des Spiels einsehen. Bis zur Saison 2018-19 wurde die Kür auch noch mit ein oder zwei Sätzen begründet – ein Fall für die Fußballlinguistik also.</p>\n",
      "    <p>Doch beginnen wir mit den nackten Zahlen. Wer war in den 6538 ausgewerteten Spielen am häufigsten Spieler des Spiels? Die folgende (durchsuch- und sortierbare) Tabelle zeigt es:</p>\n",
      "    <p>Bis zum Ende der Saison 2018/19 teilten sich noch Pizarro, Reus und Ribéry den ersten Platz mit je 43 Titeln; mit der gerade zu Ende gegangenen Hinrunde 2019/20 hat sich Lewandowski vorgearbeitet und Marco Reus hat den Thron erobert.</p>\n",
      "    <head rend=\"h2\">Wie wird man Spieler des Spiels?</head>\n",
      "    <p>An den kurzen Begründungstexten kann man nachvollziehen, welche Eigenschaften und Spielweisen von den kicker-Redakteur*innen so hochgeschätzt werden, dass es für den inoffiziellen Titel des Spieler des Spiels reicht. Als korpuslinguistisches Analyseverfahren bietet sich hier, so wie ich es schon in meiner Serie zur Elf des Spieltages gemacht habe, eine Keywordanalyse an.</p>\n",
      "    <p>Als Vergleichskorpus ziehe ich mein Korpus mit sämtlichen Einzelkritiken der BL-Saisons 2012-2016 von sportal.de heran, dessen Texte in gleicher Weise je einen Spieler individuell bewerten, aber eben nicht nur die Spitzenleistung. Die Keywordliste, also die Liste der im Untersuchungskorpus signifikant häufigen Lexeme gibt ganz gut Aufschluss darüber, was von einem Spieler erwartet wird. Im folgenden mal die Top 100 jeweils mit den Belegzahlen (Korpusgröße 119’507 Tokens):</p>\n",
      "    <p>Neben Substantiven und Verben, die mit dem Erzielen von Toren sowie mit Siegen zu tun haben (Tor, erzielen, Schütze usw.) fallen natürlich besonders die vielen Adjektive auf (glänzend, laufstark, unermüdlich, souverän, anspielbar usw.). So wie man sich einen Spieler eben wünscht, ja es sind geradezu die vielgerühmten Grundtugenden, die hier durchscheinen. Aber es sind natürlich auch eher schwammige Begriffe, die sich kaum präzise in bestimmte Spielanweisungen übersetzen lassen. Und da sieht man einmal mehr, dass der kicker eben massentauglichen Fußballjournalismus abliefert.</p>\n",
      "  </main>\n",
      "</doc>\n"
     ]
    }
   ],
   "source": [
    "# Mentalitätsscheiße (xml format, omit <comments></comments> + read urls from ./url_Liste.txt)\n",
    "!trafilatura --xml --nocomments -i \"./url_Liste.txt\""
   ]
  },
  {
   "cell_type": "code",
   "execution_count": 6,
   "id": "4fc3c0e4-0ef0-44b3-a37b-05e5db2a6e97",
   "metadata": {},
   "outputs": [
    {
     "name": "stdout",
     "output_type": "stream",
     "text": [
      "1-Introducing_a_Web_Scraping_Library_and_Command-Line_Tool_for_Text_Discovery_and_Extraction.ipynb\n",
      "2-Web_scraping_and_text_content_extraction–Beginner_tutorial_for_Python_and_the_command-line.ipynb\n",
      "3-News_crawling_&_web_scraping_-_Beginner_Tutorial_for_Python_and_the_command-line.ipynb\n",
      "4-Use_XML_sitemaps_to_scrape_news_articles_&_blog_posts_from_a_website.ipynb\n",
      "5-Content_von_Webseiten_laden_mit_trafilatura_(updated).ipynb\n",
      "LICENSE\n",
      "README.md\n",
      "\u001b[34menv\u001b[m\u001b[m\n",
      "linklist.txt\n",
      "linklistResult.json\n",
      "mentalitätsschxxxx.xml\n",
      "mentalitätsschxxxx2.xml\n",
      "url_Liste.txt\n"
     ]
    }
   ],
   "source": [
    "# use the command line and store the results in a file\n",
    "!trafilatura --sitemap \"https://www.sitemaps.org/\" --list | grep \"protocol\" > linklist.txt\n",
    "!ls"
   ]
  },
  {
   "cell_type": "markdown",
   "id": "d178daaa-8392-47e5-ae4c-5c6979825050",
   "metadata": {},
   "source": [
    "### Datensätze bauen\n",
    "Siehe auch: https://www.bubenhofer.com/korpuslinguistik/kurs/index.php?id=eigenes_wwwdownload.html."
   ]
  },
  {
   "cell_type": "code",
   "execution_count": 7,
   "id": "62c72739-ef15-47af-9be3-c5667de728f6",
   "metadata": {},
   "outputs": [
    {
     "name": "stdout",
     "output_type": "stream",
     "text": [
      "1-Introducing_a_Web_Scraping_Library_and_Command-Line_Tool_for_Text_Discovery_and_Extraction.ipynb\n",
      "2-Web_scraping_and_text_content_extraction–Beginner_tutorial_for_Python_and_the_command-line.ipynb\n",
      "3-News_crawling_&_web_scraping_-_Beginner_Tutorial_for_Python_and_the_command-line.ipynb\n",
      "4-Use_XML_sitemaps_to_scrape_news_articles_&_blog_posts_from_a_website.ipynb\n",
      "5-Content_von_Webseiten_laden_mit_trafilatura_(updated).ipynb\n",
      "6-ให้ google อ่าน blog ให้ฟังกัน (ความขี้เกียจเป็นเหตุ).ipynb\n",
      "LICENSE\n",
      "README.md\n",
      "\u001b[34menv\u001b[m\u001b[m\n",
      "linklist.txt\n",
      "linklistResult.json\n",
      "mentalitätsschxxxx.xml\n",
      "mentalitätsschxxxx2.xml\n",
      "url_Liste.txt\n"
     ]
    }
   ],
   "source": [
    "#!trafilatura -i linklist.txt --json | less # use --json or --xml\n",
    "!trafilatura --xml --nocomments -i \"linklist.txt\" > \"linklistResult.json\"\n",
    "!ls"
   ]
  },
  {
   "cell_type": "markdown",
   "id": "e49f0e63-d4b9-4ea2-9fca-d2c3230c52be",
   "metadata": {},
   "source": [
    "$\\checkmark$"
   ]
  }
 ],
 "metadata": {
  "kernelspec": {
   "display_name": "Python 3 (ipykernel)",
   "language": "python",
   "name": "python3"
  },
  "language_info": {
   "codemirror_mode": {
    "name": "ipython",
    "version": 3
   },
   "file_extension": ".py",
   "mimetype": "text/x-python",
   "name": "python",
   "nbconvert_exporter": "python",
   "pygments_lexer": "ipython3",
   "version": "3.8.8"
  }
 },
 "nbformat": 4,
 "nbformat_minor": 5
}
