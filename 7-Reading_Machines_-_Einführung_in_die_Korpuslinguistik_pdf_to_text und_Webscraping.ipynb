{
 "cells": [
  {
   "cell_type": "markdown",
   "id": "4b2c742f-3493-41a0-a540-a9c9bc888465",
   "metadata": {},
   "source": [
    "# Reading Machines – Einführung in die Korpuslinguistik: pdf to text und Webscraping\n",
    "https://www.youtube.com/watch?v=BoqrS-H6Xj8&list=PL-pKWbySIRGMgxXQOtGIz1-nbfYLvqrci&index=7\n",
    "- [Dieses PDF](https://wissenschafftplus.de/uploads/article/wissenschafftplus-virologen.pdf) herunterladen.\n",
    "- Und [hiermit](https://pdftotext.com/de/) in rohen Text umwandeln.\n",
    "- Text ggf. mit [regulären Ausdrücken](https://docs.python.org/3/library/re.html) nachbearbeiten.\n",
    "- UTF-8 Encoding benutzen um Umlaute richtig zu formatieren.\n",
    "- Beim Webscraping ist die Aufgabe, Text strukturiert und möglichst mit Metadaten aus Webseiten zu extrahieren.\n",
    "- Auch hier ist copy & paste keine gute Idee und vergibt die im HTML-Quellext angelegten Möglichkeiten.\n",
    "- Für fast alle Webseiten geeignet: Python-Bibliothek und Command Line Tool [*trafilatura*](https://pypi.org/project/trafilatura/).\n",
    "- Wir benutzen [diesen](https://www.teslarati.com/tesla-lithium-refinery-production-start/) Artikel da [der im Video verwendete](http://www.rubikon.news/rubrik/1/artikel/die-erzwungene-freiwilligkeit) nicht funktioniert."
   ]
  },
  {
   "cell_type": "code",
   "execution_count": 1,
   "id": "7750d912-bbd6-4068-926d-1844865b5da5",
   "metadata": {},
   "outputs": [
    {
     "name": "stdout",
     "output_type": "stream",
     "text": [
      "Tesla’s lithium refinery in Robstown will start production on the first day of 2024. The company’s Sr. Manager of Operations shared details about Tesla’s lithium refinery.\n",
      "“We will begin commissioning the assets roughly the first of next year, and that will continue, in earnest, over the first half of next year. They will start ramping up production the latter half of next year,” said Tesla Sr. Manager of Operations Jason Bevan.\n",
      "Bevan hinted that Tesla was already thinking of the lithium refinery’s future and its economic impact on the employees and the local community.\n",
      "“We have property that is well-suited for a future expansion beyond these first two trains, so I think there is ample opportunity for further economic impact beyond just those direct employees that we hire,” he said.\n",
      "Recently, Tesla opened a booth during a manufacturing day expo at the FEMA Dome in Del Mar College’s Windward Campus. The Tesla lithium refinery will employ 165 people to fill high-paying positions. In March, the company posted three job openings for an area superintendent, a project scheduler, and an area construction manager.\n",
      "Last week, Tesla posted a job opening for a Sr. Metallurgical Chemical Engineer. It would be a full-time mid-senior-level position. Tesla is no longer accepting applications for the Sr. Metallurgical Chemical Engineer job.\n",
      "However, earlier this week, Tesla opened applications for an electrician at the lithium refinery in Robstown. It is a full-time entry-level position. Tesla has had 23 applicants for the job so far and has not stopped accepting applications as of this writing. The electrician hired will work with Tesla’s battery materials team.\n",
      "The Teslarati team would appreciate hearing from you. If you have any tips, contact me at maria@teslarati.com or via X @Writer_01001101.\n"
     ]
    }
   ],
   "source": [
    "!trafilatura -u \"https://www.teslarati.com/tesla-lithium-refinery-production-start/\""
   ]
  },
  {
   "cell_type": "markdown",
   "id": "0afc4cf5-c25b-4b57-85be-7b4029a33c4e",
   "metadata": {},
   "source": [
    "Außerdem bietet trafilatura die Möglichkeit, xml auszulesen. Damit bleiben die HTML-tags bestehen."
   ]
  },
  {
   "cell_type": "code",
   "execution_count": 2,
   "id": "f17c5603-73cd-443a-95ae-227265c8b777",
   "metadata": {},
   "outputs": [
    {
     "name": "stdout",
     "output_type": "stream",
     "text": [
      "<doc sitename=\"TESLARATI\" title=\"Tesla lithium refinery to start production next year\" author=\"Maria Merano\" date=\"2023-10-06\" url=\"https://www.teslarati.com/tesla-lithium-refinery-production-start/\" hostname=\"teslarati.com\" description=\"Tesla’s lithium refinery in Robstown will start production on the first day of 2024.\" categories=\"\" tags=\"\" fingerprint=\"2ae181418749bd0\">\n",
      "  <main>\n",
      "    <p>Tesla’s lithium refinery in Robstown will start production on the first day of 2024. The company’s Sr. Manager of Operations shared details about Tesla’s lithium refinery.</p>\n",
      "    <p>“We will begin commissioning the assets roughly the first of next year, and that will continue, in earnest, over the first half of next year. They will start ramping up production the latter half of next year,” said Tesla Sr. Manager of Operations Jason Bevan.</p>\n",
      "    <p>Bevan hinted that Tesla was already thinking of the lithium refinery’s future and its economic impact on the employees and the local community.</p>\n",
      "    <p>“We have property that is well-suited for a future expansion beyond these first two trains, so I think there is ample opportunity for further economic impact beyond just those direct employees that we hire,” he said.</p>\n",
      "    <p>Recently, Tesla opened a booth during a manufacturing day expo at the FEMA Dome in Del Mar College’s Windward Campus. The Tesla lithium refinery will employ 165 people to fill high-paying positions. In March, the company posted three job openings for an area superintendent, a project scheduler, and an area construction manager.</p>\n",
      "    <p>Last week, Tesla posted a job opening for a Sr. Metallurgical Chemical Engineer. It would be a full-time mid-senior-level position. Tesla is no longer accepting applications for the Sr. Metallurgical Chemical Engineer job.</p>\n",
      "    <p>However, earlier this week, Tesla opened applications for an electrician at the lithium refinery in Robstown. It is a full-time entry-level position. Tesla has had 23 applicants for the job so far and has not stopped accepting applications as of this writing. The electrician hired will work with Tesla’s battery materials team.</p>\n",
      "    <p>The Teslarati team would appreciate hearing from you. If you have any tips, contact me at maria@teslarati.com or via X @Writer_01001101.</p>\n",
      "  </main>\n",
      "  <comments/>\n",
      "</doc>\n"
     ]
    }
   ],
   "source": [
    "!trafilatura --xml -u \"https://www.teslarati.com/tesla-lithium-refinery-production-start/\""
   ]
  },
  {
   "cell_type": "markdown",
   "id": "dc44dec4-904b-4c19-be2c-a40c4110cba3",
   "metadata": {},
   "source": [
    "Und wir können das Resutat lokal abspeichern."
   ]
  },
  {
   "cell_type": "code",
   "execution_count": 3,
   "id": "ca238254-daa2-4976-99f9-b4bc6e053774",
   "metadata": {},
   "outputs": [],
   "source": [
    "!trafilatura --xml -u \"https://www.teslarati.com/tesla-lithium-refinery-production-start/\" > \"./teslarati.xml\""
   ]
  },
  {
   "cell_type": "markdown",
   "id": "6dfa7568-7630-4750-a000-f78a60ce83c4",
   "metadata": {},
   "source": [
    "Noch ein anderer Artikel, diesmal über das *Large Language Model* [<b>Falcon</b>](https://huggingface.co/blog/falcon)."
   ]
  },
  {
   "cell_type": "code",
   "execution_count": 4,
   "id": "dad3e4c6-1d06-44e4-8dba-a9766ba27e72",
   "metadata": {},
   "outputs": [
    {
     "name": "stdout",
     "output_type": "stream",
     "text": [
      "/Users/matthias/Desktop/Trafilatura/env/lib/python3.8/site-packages/trafilatura/xml.py:239: FutureWarning: The behavior of this method will change in future versions. Use specific 'len(elem)' or 'elem is not None' test instead.\n",
      "  if not parent:\n"
     ]
    }
   ],
   "source": [
    "!trafilatura --xml -u \"https://huggingface.co/blog/falcon\" > \"./hf_falcon.xml\""
   ]
  },
  {
   "cell_type": "markdown",
   "id": "f8500f8b-91f0-408a-a857-363920b1fa88",
   "metadata": {},
   "source": [
    "Manche Webseiten haben im unteren Abschnitt einen Bereich für Kommentare. Deren Erfassung kann durch die optionale Kommandozeilenflagge `--nocomments` unterdrückt werden.\n",
    "\n",
    "Eine ganze Liste von Artikel URLs kann iterativ (`-i`) mit dem folgenden Kommando bearbeitet werden:"
   ]
  },
  {
   "cell_type": "code",
   "execution_count": 5,
   "id": "930fda2c-e54c-4242-9806-a0ea5a2479d4",
   "metadata": {},
   "outputs": [
    {
     "name": "stdout",
     "output_type": "stream",
     "text": [
      "/Users/matthias/Desktop/Trafilatura/env/lib/python3.8/site-packages/trafilatura/xml.py:239: FutureWarning: The behavior of this method will change in future versions. Use specific 'len(elem)' or 'elem is not None' test instead.\n",
      "  if not parent:\n"
     ]
    }
   ],
   "source": [
    "!trafilatura --xml -i \"./phil_schmid_artikel.txt\" > \"./phil_schmid_artikel.xml\""
   ]
  },
  {
   "cell_type": "markdown",
   "id": "46e29d3e-0afd-465f-b0c3-8d811770c00f",
   "metadata": {},
   "source": [
    "Bis hierhin (in Lektion 7 – Reading Machines) haben wir *web scraping* genutzt. Alternativen hierzu sind\n",
    "- *API* Abfragen (Application Programming Interface) – z.B. Twitter oder [DIP](https://dip.bundestag.de/%C3%BCber-dip/hilfe/api) und\n",
    "- *Crawling*, d.h. eine vollautomatisierte, selbständige Suche nach Daten im Netz.\n",
    "\n",
    "Für das *Crawling* sind auch **Sitemaps** relevant, z.B. die [sitemap](https://apolut.net/sitemap_index.xml) von [apolut.net](https://apolut.net). Solche Sitemaps helfen Webcrawlern / Suchmaschinen dabei, die Webseite zu navigieren.\n",
    "\n",
    "**Die in der Liste der Sitemap enthaltenen Links sind ein guter Ansatz, einen Korpus zu einem bestimmten Thema zu scrapen.**\n",
    "\n",
    "Für weitere Details zum Erstellen eines Korpus, siehe https://www.bubenhofer.com/korpuslinguistik/kurs/index.php?id=eigenes_wwwdownload.html\n",
    "\n",
    "$\\checkmark$"
   ]
  }
 ],
 "metadata": {
  "kernelspec": {
   "display_name": "Python 3 (ipykernel)",
   "language": "python",
   "name": "python3"
  },
  "language_info": {
   "codemirror_mode": {
    "name": "ipython",
    "version": 3
   },
   "file_extension": ".py",
   "mimetype": "text/x-python",
   "name": "python",
   "nbconvert_exporter": "python",
   "pygments_lexer": "ipython3",
   "version": "3.8.8"
  }
 },
 "nbformat": 4,
 "nbformat_minor": 5
}
