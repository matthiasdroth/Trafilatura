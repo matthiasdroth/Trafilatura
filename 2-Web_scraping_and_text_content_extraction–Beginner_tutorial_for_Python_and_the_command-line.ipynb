{
 "cells": [
  {
   "cell_type": "markdown",
   "id": "eda7a7ee-4e39-469c-8b79-6dd4ba4cf194",
   "metadata": {},
   "source": [
    "# Web scraping and text content extraction - Beginner tutorial for Python and the command-line\n",
    "Relevant links:\n",
    "- https://www.youtube.com/watch?v=8GkiOM17t0Q&list=PL-pKWbySIRGMgxXQOtGIz1-nbfYLvqrci&index=2\n",
    "- https://fsf.org"
   ]
  },
  {
   "cell_type": "code",
   "execution_count": 1,
   "id": "dc0e8e1e-7951-4505-ae74-72a479303a86",
   "metadata": {},
   "outputs": [],
   "source": [
    "!trafilatura -u \"https://fsf.org\""
   ]
  },
  {
   "cell_type": "code",
   "execution_count": 2,
   "id": "3ade2ded-e460-4f80-997d-da36a66887e9",
   "metadata": {},
   "outputs": [],
   "source": [
    "!trafilatura --xml --URL \"https://fsf.org\""
   ]
  },
  {
   "cell_type": "code",
   "execution_count": 3,
   "id": "4a27df65-5295-4e4a-97c2-5b09ac06a755",
   "metadata": {},
   "outputs": [
    {
     "name": "stdout",
     "output_type": "stream",
     "text": [
      "usage: trafilatura [-h] [-i INPUT_FILE | --input-dir INPUT_DIR | -u URL]\n",
      "                   [--parallel PARALLEL] [-b BLACKLIST] [--list]\n",
      "                   [-o OUTPUT_DIR] [--backup-dir BACKUP_DIR] [--keep-dirs]\n",
      "                   [--feed [FEED] | --sitemap [SITEMAP] | --crawl [CRAWL] |\n",
      "                   --explore [EXPLORE] | --probe [PROBE]] [--archived]\n",
      "                   [--url-filter URL_FILTER [URL_FILTER ...]] [-f]\n",
      "                   [--formatting] [--links] [--images] [--no-comments]\n",
      "                   [--no-tables] [--only-with-metadata]\n",
      "                   [--target-language TARGET_LANGUAGE] [--deduplicate]\n",
      "                   [--config-file CONFIG_FILE] [--precision] [--recall]\n",
      "                   [-out {txt,csv,json,xml,xmltei} | --csv | --json | --xml | --xmltei]\n",
      "                   [--validate-tei] [-v] [--version]\n",
      "\n",
      "Command-line interface for Trafilatura\n",
      "\n",
      "optional arguments:\n",
      "  -h, --help            show this help message and exit\n",
      "  -v, --verbose         increase logging verbosity (-v or -vv)\n",
      "  --version             show version information and exit\n",
      "\n",
      "Input:\n",
      "  URLs, files or directories to process\n",
      "\n",
      "  -i INPUT_FILE, --input-file INPUT_FILE\n",
      "                        name of input file for batch processing\n",
      "  --input-dir INPUT_DIR\n",
      "                        read files from a specified directory (relative path)\n",
      "  -u URL, --URL URL     custom URL download\n",
      "  --parallel PARALLEL   specify a number of cores/threads for downloads and/or\n",
      "                        processing\n",
      "  -b BLACKLIST, --blacklist BLACKLIST\n",
      "                        file containing unwanted URLs to discard during\n",
      "                        processing\n",
      "\n",
      "Output:\n",
      "  Determines if and how files will be written\n",
      "\n",
      "  --list                display a list of URLs without downloading them\n",
      "  -o OUTPUT_DIR, --output-dir OUTPUT_DIR\n",
      "                        write results in a specified directory (relative path)\n",
      "  --backup-dir BACKUP_DIR\n",
      "                        preserve a copy of downloaded files in a backup\n",
      "                        directory\n",
      "  --keep-dirs           keep input directory structure and file names\n",
      "\n",
      "Navigation:\n",
      "  Link discovery and web crawling\n",
      "\n",
      "  --feed [FEED]         look for feeds and/or pass a feed URL as input\n",
      "  --sitemap [SITEMAP]   look for sitemaps for the given website and/or enter a\n",
      "                        sitemap URL\n",
      "  --crawl [CRAWL]       crawl a fixed number of pages within a website\n",
      "                        starting from the given URL\n",
      "  --explore [EXPLORE]   explore the given websites (combination of sitemap and\n",
      "                        crawl)\n",
      "  --probe [PROBE]       probe for extractable content (works best with target\n",
      "                        language)\n",
      "  --archived            try to fetch URLs from the Internet Archive if\n",
      "                        downloads fail\n",
      "  --url-filter URL_FILTER [URL_FILTER ...]\n",
      "                        only process/output URLs containing these patterns\n",
      "                        (space-separated strings)\n",
      "\n",
      "Extraction:\n",
      "  Customization of text and metadata processing\n",
      "\n",
      "  -f, --fast            fast (without fallback detection)\n",
      "  --formatting          include text formatting (bold, italic, etc.)\n",
      "  --links               include links along with their targets (experimental)\n",
      "  --images              include image sources in output (experimental)\n",
      "  --no-comments         don't output any comments\n",
      "  --no-tables           don't output any table elements\n",
      "  --only-with-metadata  only output those documents with title, URL and date\n",
      "                        (for formats supporting metadata)\n",
      "  --target-language TARGET_LANGUAGE\n",
      "                        select a target language (ISO 639-1 codes)\n",
      "  --deduplicate         filter out duplicate documents and sections\n",
      "  --config-file CONFIG_FILE\n",
      "                        override standard extraction parameters with a custom\n",
      "                        config file\n",
      "  --precision           favor extraction precision (less noise, possibly less\n",
      "                        text)\n",
      "  --recall              favor extraction recall (more text, possibly more\n",
      "                        noise)\n",
      "\n",
      "Format:\n",
      "  Selection of the output format\n",
      "\n",
      "  -out {txt,csv,json,xml,xmltei}, --output-format {txt,csv,json,xml,xmltei}\n",
      "                        determine output format\n",
      "  --csv                 shorthand for CSV output\n",
      "  --json                shorthand for JSON output\n",
      "  --xml                 shorthand for XML output\n",
      "  --xmltei              shorthand for XML TEI output\n",
      "  --validate-tei        validate XML TEI output\n"
     ]
    }
   ],
   "source": [
    "# show guide\n",
    "!trafilatura -h"
   ]
  },
  {
   "cell_type": "code",
   "execution_count": 4,
   "id": "55c7888f-fb1e-4721-b080-2dc207b031bb",
   "metadata": {},
   "outputs": [
    {
     "name": "stdout",
     "output_type": "stream",
     "text": [
      "Choisir vos préférences en matière de cookies\n",
      "Nous utilisons des cookies et des outils similaires qui sont nécessaires pour vous permettre d'effectuer des achats, pour améliorer vos expériences d'achat et fournir nos services, comme détaillé dans notre Avis sur les cookies. Nous utilisons également ces cookies pour comprendre comment les clients utilisent nos services (par exemple, en mesurant les visites sur le site) afin que nous puissions apporter des améliorations.\n",
      "Si vous acceptez, nous utiliserons également des cookies complémentaires à votre expérience d'achat dans les boutiques Amazon, comme décrit dans notre Avis sur les cookies. Cela inclut l'utilisation de cookies internes et tiers qui stockent ou accèdent aux informations standard de l'appareil tel qu'un identifiant unique. Les tiers utilisent des cookies dans le but d'afficher et de mesurer des publicités personnalisées, générer des informations sur l'audience, et développer et améliorer des produits. Cliquez sur «Personnaliser les cookies» pour refuser ces cookies, faire des choix plus détaillés ou en savoir plus. Vous pouvez modifier vos choix à tout moment en accédant aux Préférences pour les publicités sur Amazon , comme décrit dans l'Avis sur les cookies. Pour en savoir plus sur comment et à quelles fins Amazon utilise les informations personnelles (tel que l'historique des commandes de la boutique Amazon), consultez notre Politique de confidentialité.\n",
      "Désolé, un problème s'est produit lors de l'enregistrement de vos préférences en matière de cookies. Veuillez réessayer.\n"
     ]
    }
   ],
   "source": [
    "import trafilatura\n",
    "downloaded = trafilatura.fetch_url(\"https://amazon.fr\")\n",
    "if downloaded is not None:\n",
    "    result = trafilatura.extract(downloaded)\n",
    "    print(result)"
   ]
  },
  {
   "cell_type": "code",
   "execution_count": 5,
   "id": "0fc110fb-960a-40ef-b740-9bbe223bdbd4",
   "metadata": {},
   "outputs": [
    {
     "name": "stdout",
     "output_type": "stream",
     "text": [
      "Choisir vos préférences en matière de cookies\n",
      "Nous utilisons des cookies et des outils similaires qui sont nécessaires pour vous permettre d'effectuer des achats, pour améliorer vos expériences d'achat et fournir nos services, comme détaillé dans notre Avis sur les cookies. Nous utilisons également ces cookies pour comprendre comment les clients utilisent nos services (par exemple, en mesurant les visites sur le site) afin que nous puissions apporter des améliorations.\n",
      "Si vous acceptez, nous utiliserons également des cookies complémentaires à votre expérience d'achat dans les boutiques Amazon, comme décrit dans notre Avis sur les cookies. Cela inclut l'utilisation de cookies internes et tiers qui stockent ou accèdent aux informations standard de l'appareil tel qu'un identifiant unique. Les tiers utilisent des cookies dans le but d'afficher et de mesurer des publicités personnalisées, générer des informations sur l'audience, et développer et améliorer des produits. Cliquez sur «Personnaliser les cookies» pour refuser ces cookies, faire des choix plus détaillés ou en savoir plus. Vous pouvez modifier vos choix à tout moment en accédant aux Préférences pour les publicités sur Amazon , comme décrit dans l'Avis sur les cookies. Pour en savoir plus sur comment et à quelles fins Amazon utilise les informations personnelles (tel que l'historique des commandes de la boutique Amazon), consultez notre Politique de confidentialité.\n",
      "Désolé, un problème s'est produit lors de l'enregistrement de vos préférences en matière de cookies. Veuillez réessayer.\n"
     ]
    }
   ],
   "source": [
    "if downloaded is not None:\n",
    "    result = trafilatura.extract(downloaded, target_language=\"fr\") # set target language\n",
    "    print(result)"
   ]
  },
  {
   "cell_type": "code",
   "execution_count": 6,
   "id": "60c18e1e-6b3f-4a8d-947a-a03bd8bd136f",
   "metadata": {},
   "outputs": [],
   "source": [
    "downloaded = trafilatura.fetch_url(\"https://fsf.org\")\n",
    "if downloaded is not None:\n",
    "    print(trafilatura.bare_extraction(\"fsf.org\")) # set target language"
   ]
  },
  {
   "cell_type": "code",
   "execution_count": 7,
   "id": "67fa309b-2240-4728-91df-7591f98329db",
   "metadata": {},
   "outputs": [
    {
     "data": {
      "text/plain": [
       "[]"
      ]
     },
     "execution_count": 7,
     "metadata": {},
     "output_type": "execute_result"
    }
   ],
   "source": [
    "from trafilatura import feeds\n",
    "feedsList = feeds.find_feed_urls(\"https://theguardian.com\")\n",
    "feedsList"
   ]
  },
  {
   "cell_type": "code",
   "execution_count": 8,
   "id": "286a13ff-2274-4802-8ad3-bf28879855a6",
   "metadata": {},
   "outputs": [
    {
     "name": "stdout",
     "output_type": "stream",
     "text": [
      "(<Element body at 0x7f7bc25e4200>, 'Info\\nPresse\\nUrheberrecht\\nKontakt\\nCreator\\nWerben\\nEntwickler\\nImpressum\\nVerträge hier kündigen\\nNutzungsbedingungen\\nDatenschutz\\nRichtlinien & Sicherheit\\nWie funktioniert YouTube?\\nNeue Funktionen testen\\n© 2023 Google LLC', 215)\n"
     ]
    }
   ],
   "source": [
    "downloaded = trafilatura.fetch_url(\"https://youtube.com\")\n",
    "if downloaded is not None:\n",
    "    #metadata = trafilatura.metadata.extract_metadata(downloaded)\n",
    "    #print(metadata)\n",
    "    result = trafilatura.core.baseline(downloaded)\n",
    "    print(result)"
   ]
  }
 ],
 "metadata": {
  "kernelspec": {
   "display_name": "Python 3 (ipykernel)",
   "language": "python",
   "name": "python3"
  },
  "language_info": {
   "codemirror_mode": {
    "name": "ipython",
    "version": 3
   },
   "file_extension": ".py",
   "mimetype": "text/x-python",
   "name": "python",
   "nbconvert_exporter": "python",
   "pygments_lexer": "ipython3",
   "version": "3.8.8"
  }
 },
 "nbformat": 4,
 "nbformat_minor": 5
}
