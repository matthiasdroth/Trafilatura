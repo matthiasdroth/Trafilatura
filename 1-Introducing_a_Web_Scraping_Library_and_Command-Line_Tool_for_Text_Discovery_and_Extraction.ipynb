{
 "cells": [
  {
   "cell_type": "markdown",
   "id": "10801fdc-ad9f-4aa7-a594-d466ad534a91",
   "metadata": {},
   "source": [
    "# Introducing a Web Scraping Library and Command-Line Tool for Text Discovery and Extraction\n",
    "\n",
    "Relevant links:\n",
    "- https://www.youtube.com/results?search_query=trafilatura\n",
    "- https://trafilatura.readthedocs.io\n",
    "- https://github.com/adbar/trafilatura\n",
    "\n",
    "$\\checkmark$"
   ]
  }
 ],
 "metadata": {
  "kernelspec": {
   "display_name": "Python 3 (ipykernel)",
   "language": "python",
   "name": "python3"
  },
  "language_info": {
   "codemirror_mode": {
    "name": "ipython",
    "version": 3
   },
   "file_extension": ".py",
   "mimetype": "text/x-python",
   "name": "python",
   "nbconvert_exporter": "python",
   "pygments_lexer": "ipython3",
   "version": "3.8.8"
  }
 },
 "nbformat": 4,
 "nbformat_minor": 5
}
