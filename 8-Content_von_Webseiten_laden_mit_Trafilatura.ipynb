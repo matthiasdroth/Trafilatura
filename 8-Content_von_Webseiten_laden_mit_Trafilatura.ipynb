{
 "cells": [
  {
   "cell_type": "markdown",
   "id": "2fce16a3-aea8-41d9-83cc-0335aa59708e",
   "metadata": {},
   "source": [
    "# Content von Webseiten laden mit Trafilatura\n",
    "https://www.youtube.com/watch?v=Eei7-8ZQdTc&list=PL-pKWbySIRGMgxXQOtGIz1-nbfYLvqrci&index=8"
   ]
  },
  {
   "cell_type": "code",
   "execution_count": 1,
   "id": "07022255-0935-4d8c-a895-c0cb7e0154a2",
   "metadata": {},
   "outputs": [
    {
     "name": "stdout",
     "output_type": "stream",
     "text": [
      "HEUSER: Nach dem Auswärtsspiel, nach der Blamage bei Union Berlin war viel von fehlender Mentalität die Rede, fehlt’s da immer noch?https://youtu.be/qWjc9uzL09E?t=43\n",
      "REUS: Oah, das geht mir so auf die Eier mit euch, mit eurer Mentalitätsscheiße, ne, ganz ehrlich, also…\n",
      "HEUSER: Aber trifft’s nicht genau den Punkt?\n",
      "REUS: Heute? Ist das Ihr Ernst jetzt?\n",
      "Nach dem 2:2-Unentschieden gegen Eintracht Frankfurt hat Marco Reus ein bemerkenswertes Interview gegeben. Bemerkenswert, weil er für einen kurzen Moment die eigentlich geltende Allianz von Reporter*innen und Fußballer*innen aufgekündigt hat, der zufolge harmlosen Fragen mit harmlosen Antworten begegnet wird (K. File hat die Gattung des Post Match Interview einmal treffend als conciliatory beschrieben). Allein schon wegen des Seltenheitswertes verdient ein solches Interview, in dem ein Fußballer seinem Ärger freien Lauf lässt, besondere fußballlinguistische Aufmerksamkeit. Aber auch der Vorwurf selbst, dieses ihr mit eurer Mentalitätsscheiße ist einen genaueren Blick wert.\n",
      "Was ist „Mentalität“?\n",
      "Tatsächlich ist im Fußball gerne und oft von Mentalität die Rede. Das zeigt schon eine Recherche im Deutschen Referenzkorpus: Die meisten Belege fallen tatsächlich auf das Thema Sport: Fußball. Und ein Blick in die Belege zeigt zudem, dass Mentalität im Fußball offenbar eine besondere Rolle spielt, denn damit soll offenbar so etwas wie Einstellung gemeint sein, jenes kaum objektiv messbare, aber im Zweifel für Sieg oder Niederlage verantwortlich gemachte Etwas, das irgendwo im Kopf lokalisiert sein soll. Und es geht dabei, wie schon im zitierten Interview, weniger um die üblicherweise in Wörterbüchern kodifizierte, partikulaisierende Mentalität einer bestimmten Menschengruppe (etwa die ‚deutsche‘ oder ‚italienische‘ oder ‚dörfliche‘ Mentalität), sondern um eine normativ gewendete ‚richtige‘, ‚gute‘ oder eben ‚fehlende‘ Mentalität. Nur mal zwei lose herausgegriffene Beispiele aus meinen Korpora:\n",
      "Die Stärken der Niedersachsen fasst er [Jürgen Klopp] kurz und knapp mit den Worten „klare Spielidee, gute Mentalität und sensationelles Umschaltspiel“ zusammen.https://www.weltfussball.de/spielbericht/bundesliga-2012-2013-hannover-96-borussia-dortmund/liveticker/\n",
      "„Meine Mannschaft hat große Moral und die richtige Mentalität bewiesen. Sie hat sich für ihren Einsatz und die vielen Torchancen belohnt“, meint Kramny […]https://www.weltfussball.de/spielbericht/bundesliga-2015-2016-vfb-stuttgart-vfl-wolfsburg/liveticker/\n",
      "Die verabsolutierte Form der Mentalität scheint tatsächlich etwas sporttypisches (man denke auch an die etwa im Tennis vielbesprochene mentale Stärke) und insbesondere fußballtypisches zu sein. Und sie lässt sich seit vielen Jahrzehnten nachweisen.\n",
      "Eine historische Spurensuche\n",
      "Der früheste Beleg, den ich finden konnte, stammt aus dem Jahr 1966 aus einem Artikel über mögliche Regeländerungen, in dem es über den damaligen FIFA-Generalsekretär heißt:\n",
      "Helmut Käser fand hierfür die Formulierung, daß die Taktik des Spiels nicht von den Regeln, sondern in erster Linie von der Mentalität des Spiels und der Spieler bestimmt werde.Die Zeit, 4.11.1966\n",
      "1974 ist es dann kein Geringerer als Helmut Schön, dessen Rede von Mentalität wie folgt wiedergegeben wird:\n",
      "Er spricht von der Mentalität der Spieler, die ja schließlich Profis seien, verweigert allerdings die Antwort auf die Frage, ob er die gezahlten Summen für angemessen halte […]Die Zeit, 30.8.1974\n",
      "Und tatsächlich gehört seit den Siebziger Jahren die Rede Mentalität zur rhetorischen Standardausrüstung insbesondere der Trainer. Zwar ist auch die partikularisierende, und hier vor allem die nationalisierende Variante bis heute zu finden, etwa im thematischen Kontext von Länderspielen oder Vereinswechseln ins Ausland. Aber immer wieder wird eben auch einfach auf die Mentalität an sich verwiesen, die eine Mannschaft angeblich an den Tag legt.\n",
      "Entscheidend scheint mir dabei zu sein, dass es tatsächlich, wie schon in den genannten frühesten Belegen, fast immer die Akteure selbst sind, die in solcher Weise von Mentalität reden. Man sieht das etwa daran, dass unsere Mentalität eine hochsignifikante Kollokation ist:\n",
      "«Wir waren in der Lage, gegen den Weltmeister bis auf die letzten zehn Sekunden mitzuhalten. Das hat uns stärker und zuversichtlicher gemacht. Unsere Mentalität ist sehr gut. Wir haben ein gutes Gefühl», sagte der Trainer Janne Andersson.NZZ, 26.6.2018\n",
      "Auch in meinen Livetickerkorpora sind ist fast ausschließlich in direkten Zitaten von Mentalität die Rede. Mentalität scheint mir so etwas wie eine Pathosformel der Ergebniserklärung zu sein, die überzeugen soll, ohne allzu präzise beschreiben zu müssen (und zu können).\n",
      "Wessen Mentalitätsscheiße ist das?\n",
      "Das mag man, gerade in seiner Allgemeinheit und Ubiquität, scheiße finden, denn tatsächlich erklärt Mentalität eigentlich nichts bzw. muss immer dann herhalten, wenn es sonst keine Erklärungen gibt. Aber dass es die Journalist*innen sind, die immer mit dieser Mentalitätsscheiße kommen – das stimmt wohl kaum. Und Marco Reus schießt hier vor allem gegen sich selbst. Denn ich freue mich besonders, in meinen Quellen dieses Zitat gefunden zu haben:\n",
      "„[…] Das 1:1 war so einen Art Weckruf“ , analysierte BVB-Kapitän Marco Reus, der die “ gute Mentalität“ lobte.Berliner Morgenpost, 9.12.2018\n",
      "Interessanter Text. Die problematische Mentalität hat Marco Reus übrigens nach dem 1:3 bei Union selber erwähnt. Der Spin mit „eurer Mentalitätsscheisse“ ist also zumindest bei „eure“ falsch.\n",
      "Guter Text. Marco Reus ärgert sich vielleicht primär über das Spiel gegen Union Berlin und wendet diesen Ärger gegen den Reporter.\n"
     ]
    }
   ],
   "source": [
    "!trafilatura -u \"https://fussballlinguistik.de/2019/09/mentalitaetsscheisse/\""
   ]
  },
  {
   "cell_type": "markdown",
   "id": "6764ea40-d249-42bd-860b-cb7599859e0e",
   "metadata": {},
   "source": [
    "Behalte alle html tags (`<div>xxx</div>` etc.) durch setzen der  `--xml` Flagge."
   ]
  },
  {
   "cell_type": "code",
   "execution_count": 2,
   "id": "53cf70fb-0ed3-442a-a2fe-17d26cd87a68",
   "metadata": {},
   "outputs": [
    {
     "name": "stdout",
     "output_type": "stream",
     "text": [
      "<doc sitename=\"Fußballlinguistik\" title=\"Mentalitätsscheiße\" author=\"Simon Meier-Vieracker\" date=\"2019-09-24\" url=\"https://fussballlinguistik.de/2019/09/mentalitaetsscheisse/\" hostname=\"fussballlinguistik.de\" description=\"HEUSER: Nach dem Auswärtsspiel, nach der Blamage bei Union Berlin war viel von fehlender Mentalität die Rede, fehlt’s da immer noch?REUS: Oah, das geht mir so auf die Eier mit euch, mit eurer…\" categories=\"Interview\" tags=\"\" fingerprint=\"d65f745b4382f660\">\n",
      "  <main>\n",
      "    <quote><p>HEUSER: Nach dem Auswärtsspiel, nach der Blamage bei Union Berlin war viel von fehlender Mentalität die Rede, fehlt’s da immer noch?</p>https://youtu.be/qWjc9uzL09E?t=43<lb/>REUS: Oah, das geht mir so auf die Eier mit euch, mit eurer Mentalitätsscheiße, ne, ganz ehrlich, also…<lb/>HEUSER: Aber trifft’s nicht genau den Punkt?<lb/>REUS: Heute? Ist das Ihr Ernst jetzt?</quote>\n",
      "    <p>Nach dem 2:2-Unentschieden gegen Eintracht Frankfurt hat Marco Reus ein bemerkenswertes Interview gegeben. Bemerkenswert, weil er für einen kurzen Moment die eigentlich geltende Allianz von Reporter*innen und Fußballer*innen aufgekündigt hat, der zufolge harmlosen Fragen mit harmlosen Antworten begegnet wird (K. File hat die Gattung des Post Match Interview einmal treffend als conciliatory beschrieben). Allein schon wegen des Seltenheitswertes verdient ein solches Interview, in dem ein Fußballer seinem Ärger freien Lauf lässt, besondere fußballlinguistische Aufmerksamkeit. Aber auch der Vorwurf selbst, dieses ihr mit eurer Mentalitätsscheiße ist einen genaueren Blick wert.</p>\n",
      "    <head rend=\"h2\">Was ist „Mentalität“?</head>\n",
      "    <p>Tatsächlich ist im Fußball gerne und oft von Mentalität die Rede. Das zeigt schon eine Recherche im Deutschen Referenzkorpus: Die meisten Belege fallen tatsächlich auf das Thema Sport: Fußball. Und ein Blick in die Belege zeigt zudem, dass Mentalität im Fußball offenbar eine besondere Rolle spielt, denn damit soll offenbar so etwas wie Einstellung gemeint sein, jenes kaum objektiv messbare, aber im Zweifel für Sieg oder Niederlage verantwortlich gemachte Etwas, das irgendwo im Kopf lokalisiert sein soll. Und es geht dabei, wie schon im zitierten Interview, weniger um die üblicherweise in Wörterbüchern kodifizierte, partikulaisierende Mentalität einer bestimmten Menschengruppe (etwa die ‚deutsche‘ oder ‚italienische‘ oder ‚dörfliche‘ Mentalität), sondern um eine normativ gewendete ‚richtige‘, ‚gute‘ oder eben ‚fehlende‘ Mentalität. Nur mal zwei lose herausgegriffene Beispiele aus meinen Korpora:</p>\n",
      "    <quote><p>Die Stärken der Niedersachsen fasst er [Jürgen Klopp] kurz und knapp mit den Worten „klare Spielidee, gute Mentalität und sensationelles Umschaltspiel“ zusammen.</p>https://www.weltfussball.de/spielbericht/bundesliga-2012-2013-hannover-96-borussia-dortmund/liveticker/</quote>\n",
      "    <quote><p>„Meine Mannschaft hat große Moral und die richtige Mentalität bewiesen. Sie hat sich für ihren Einsatz und die vielen Torchancen belohnt“, meint Kramny […]</p>https://www.weltfussball.de/spielbericht/bundesliga-2015-2016-vfb-stuttgart-vfl-wolfsburg/liveticker/</quote>\n",
      "    <p>Die verabsolutierte Form der Mentalität scheint tatsächlich etwas sporttypisches (man denke auch an die etwa im Tennis vielbesprochene mentale Stärke) und insbesondere fußballtypisches zu sein. Und sie lässt sich seit vielen Jahrzehnten nachweisen.</p>\n",
      "    <head rend=\"h2\">Eine historische Spurensuche</head>\n",
      "    <p>Der früheste Beleg, den ich finden konnte, stammt aus dem Jahr 1966 aus einem Artikel über mögliche Regeländerungen, in dem es über den damaligen FIFA-Generalsekretär heißt:</p>\n",
      "    <quote><p>Helmut Käser fand hierfür die Formulierung, daß die Taktik des Spiels nicht von den Regeln, sondern in erster Linie von der Mentalität des Spiels und der Spieler bestimmt werde.</p>Die Zeit, 4.11.1966</quote>\n",
      "    <p>1974 ist es dann kein Geringerer als Helmut Schön, dessen Rede von Mentalität wie folgt wiedergegeben wird:</p>\n",
      "    <quote><p>Er spricht von der Mentalität der Spieler, die ja schließlich Profis seien, verweigert allerdings die Antwort auf die Frage, ob er die gezahlten Summen für angemessen halte […]</p>Die Zeit, 30.8.1974</quote>\n",
      "    <p>Und tatsächlich gehört seit den Siebziger Jahren die Rede Mentalität zur rhetorischen Standardausrüstung insbesondere der Trainer. Zwar ist auch die partikularisierende, und hier vor allem die nationalisierende Variante bis heute zu finden, etwa im thematischen Kontext von Länderspielen oder Vereinswechseln ins Ausland. Aber immer wieder wird eben auch einfach auf die Mentalität an sich verwiesen, die eine Mannschaft angeblich an den Tag legt.</p>\n",
      "    <p>Entscheidend scheint mir dabei zu sein, dass es tatsächlich, wie schon in den genannten frühesten Belegen, fast immer die Akteure selbst sind, die in solcher Weise von Mentalität reden. Man sieht das etwa daran, dass unsere Mentalität eine hochsignifikante Kollokation ist:</p>\n",
      "    <quote><p>«Wir waren in der Lage, gegen den Weltmeister bis auf die letzten zehn Sekunden mitzuhalten. Das hat uns stärker und zuversichtlicher gemacht. Unsere Mentalität ist sehr gut. Wir haben ein gutes Gefühl», sagte der Trainer Janne Andersson.</p>NZZ, 26.6.2018</quote>\n",
      "    <p>Auch in meinen Livetickerkorpora sind ist fast ausschließlich in direkten Zitaten von Mentalität die Rede. Mentalität scheint mir so etwas wie eine Pathosformel der Ergebniserklärung zu sein, die überzeugen soll, ohne allzu präzise beschreiben zu müssen (und zu können).</p>\n",
      "    <head rend=\"h2\">Wessen Mentalitätsscheiße ist das?</head>\n",
      "    <p>Das mag man, gerade in seiner Allgemeinheit und Ubiquität, scheiße finden, denn tatsächlich erklärt Mentalität eigentlich nichts bzw. muss immer dann herhalten, wenn es sonst keine Erklärungen gibt. Aber dass es die Journalist*innen sind, die immer mit dieser Mentalitätsscheiße kommen – das stimmt wohl kaum. Und Marco Reus schießt hier vor allem gegen sich selbst. Denn ich freue mich besonders, in meinen Quellen dieses Zitat gefunden zu haben:</p>\n",
      "    <quote><p>„[…] Das 1:1 war so einen Art Weckruf“ , analysierte BVB-Kapitän Marco Reus, der die “ gute Mentalität“ lobte.</p>Berliner Morgenpost, 9.12.2018</quote>\n",
      "  </main>\n",
      "  <comments>\n",
      "    <p>Interessanter Text. Die problematische Mentalität hat Marco Reus übrigens nach dem 1:3 bei Union selber erwähnt. Der Spin mit „eurer Mentalitätsscheisse“ ist also zumindest bei „eure“ falsch.</p>\n",
      "    <p>Guter Text. Marco Reus ärgert sich vielleicht primär über das Spiel gegen Union Berlin und wendet diesen Ärger gegen den Reporter.</p>\n",
      "  </comments>\n",
      "</doc>\n"
     ]
    }
   ],
   "source": [
    "!trafilatura --xml -u \"https://fussballlinguistik.de/2019/09/mentalitaetsscheisse/\""
   ]
  },
  {
   "cell_type": "markdown",
   "id": "b6f7ad5b-0640-44ae-b0b1-6e6ab8271d91",
   "metadata": {},
   "source": [
    "Schreiben des Ergebnisses in eine Datei geht wie folgt:"
   ]
  },
  {
   "cell_type": "code",
   "execution_count": 3,
   "id": "d2e6128a-a56b-4420-80a7-da925db70bcc",
   "metadata": {},
   "outputs": [],
   "source": [
    "!trafilatura --xml -u \"https://fussballlinguistik.de/2019/09/mentalitaetsscheisse/\" > \"mentalitätsschxxxx3.xml\""
   ]
  },
  {
   "cell_type": "markdown",
   "id": "5cf77864-e23d-4465-9965-aef07415dcad",
   "metadata": {},
   "source": [
    "Die hiermit erzeugte `.xml` Datei enthält auch Kommentare. Mit der optionalen `--nocomments` Flagge können die Kommentare ausgeblendet werden:"
   ]
  },
  {
   "cell_type": "code",
   "execution_count": 4,
   "id": "d217d687-b843-4ed5-a6fa-fc8334cb06c9",
   "metadata": {},
   "outputs": [],
   "source": [
    "!trafilatura --xml --nocomments -u \"https://fussballlinguistik.de/2019/09/mentalitaetsscheisse/\" > \"mentalitätsschxxxx4.xml\""
   ]
  },
  {
   "cell_type": "markdown",
   "id": "4db7a626-cc2b-46a5-8656-93c6f1e9f285",
   "metadata": {},
   "source": [
    "Mit Hilfe von regulären Ausdrücken und an Hand der <quote></quote> Tags  – z.B. `<quote>[\\w\\W]*?</quote>` – lassen sich in der erzeugten Datei die Kommentare auswählen.\n",
    "\n",
    "$\\checkmark$"
   ]
  }
 ],
 "metadata": {
  "kernelspec": {
   "display_name": "Python 3 (ipykernel)",
   "language": "python",
   "name": "python3"
  },
  "language_info": {
   "codemirror_mode": {
    "name": "ipython",
    "version": 3
   },
   "file_extension": ".py",
   "mimetype": "text/x-python",
   "name": "python",
   "nbconvert_exporter": "python",
   "pygments_lexer": "ipython3",
   "version": "3.8.8"
  }
 },
 "nbformat": 4,
 "nbformat_minor": 5
}
