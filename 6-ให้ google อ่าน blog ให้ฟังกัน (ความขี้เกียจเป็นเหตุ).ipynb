{
 "cells": [
  {
   "cell_type": "markdown",
   "id": "99aa86d8-7311-4946-9b28-b62b8cf55ebc",
   "metadata": {},
   "source": [
    "# ให้ google อ่าน blog ให้ฟังกัน (ความขี้เกียจเป็นเหตุ)\n",
    "https://www.youtube.com/watch?v=JDT0m3wnbVg&list=PL-pKWbySIRGMgxXQOtGIz1-nbfYLvqrci&index=6<br>\n",
    "***Not implemented***<br>\n",
    "$\\checkmark$"
   ]
  }
 ],
 "metadata": {
  "kernelspec": {
   "display_name": "Python 3 (ipykernel)",
   "language": "python",
   "name": "python3"
  },
  "language_info": {
   "codemirror_mode": {
    "name": "ipython",
    "version": 3
   },
   "file_extension": ".py",
   "mimetype": "text/x-python",
   "name": "python",
   "nbconvert_exporter": "python",
   "pygments_lexer": "ipython3",
   "version": "3.8.8"
  }
 },
 "nbformat": 4,
 "nbformat_minor": 5
}
